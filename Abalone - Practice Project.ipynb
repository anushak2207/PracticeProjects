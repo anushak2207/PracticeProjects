{
 "cells": [
  {
   "cell_type": "markdown",
   "metadata": {},
   "source": [
    "###### Data Description:\n",
    "    The Task is to predict the rings of the each abalone which will lead us to find the age of that Abalone.\n",
    "    "
   ]
  },
  {
   "cell_type": "code",
   "execution_count": 132,
   "metadata": {},
   "outputs": [],
   "source": [
    "#Importing required Libraries \n",
    "\n",
    "import pandas as pd\n",
    "import numpy as np\n",
    "import seaborn as sns\n",
    "import matplotlib.pyplot as plt\n",
    "import sklearn\n",
    "from sklearn.preprocessing import LabelEncoder\n",
    "from sklearn.preprocessing import StandardScaler\n",
    "from sklearn.model_selection import train_test_split"
   ]
  },
  {
   "cell_type": "code",
   "execution_count": 133,
   "metadata": {},
   "outputs": [
    {
     "data": {
      "text/html": [
       "<div>\n",
       "<style scoped>\n",
       "    .dataframe tbody tr th:only-of-type {\n",
       "        vertical-align: middle;\n",
       "    }\n",
       "\n",
       "    .dataframe tbody tr th {\n",
       "        vertical-align: top;\n",
       "    }\n",
       "\n",
       "    .dataframe thead th {\n",
       "        text-align: right;\n",
       "    }\n",
       "</style>\n",
       "<table border=\"1\" class=\"dataframe\">\n",
       "  <thead>\n",
       "    <tr style=\"text-align: right;\">\n",
       "      <th></th>\n",
       "      <th>Sex</th>\n",
       "      <th>Length</th>\n",
       "      <th>Diameter</th>\n",
       "      <th>Height</th>\n",
       "      <th>Whole weight</th>\n",
       "      <th>Shucked weight</th>\n",
       "      <th>Viscera weight</th>\n",
       "      <th>Shell weight</th>\n",
       "      <th>Rings</th>\n",
       "    </tr>\n",
       "  </thead>\n",
       "  <tbody>\n",
       "    <tr>\n",
       "      <th>0</th>\n",
       "      <td>M</td>\n",
       "      <td>0.455</td>\n",
       "      <td>0.365</td>\n",
       "      <td>0.095</td>\n",
       "      <td>0.5140</td>\n",
       "      <td>0.2245</td>\n",
       "      <td>0.1010</td>\n",
       "      <td>0.150</td>\n",
       "      <td>15</td>\n",
       "    </tr>\n",
       "    <tr>\n",
       "      <th>1</th>\n",
       "      <td>M</td>\n",
       "      <td>0.350</td>\n",
       "      <td>0.265</td>\n",
       "      <td>0.090</td>\n",
       "      <td>0.2255</td>\n",
       "      <td>0.0995</td>\n",
       "      <td>0.0485</td>\n",
       "      <td>0.070</td>\n",
       "      <td>7</td>\n",
       "    </tr>\n",
       "    <tr>\n",
       "      <th>2</th>\n",
       "      <td>F</td>\n",
       "      <td>0.530</td>\n",
       "      <td>0.420</td>\n",
       "      <td>0.135</td>\n",
       "      <td>0.6770</td>\n",
       "      <td>0.2565</td>\n",
       "      <td>0.1415</td>\n",
       "      <td>0.210</td>\n",
       "      <td>9</td>\n",
       "    </tr>\n",
       "    <tr>\n",
       "      <th>3</th>\n",
       "      <td>M</td>\n",
       "      <td>0.440</td>\n",
       "      <td>0.365</td>\n",
       "      <td>0.125</td>\n",
       "      <td>0.5160</td>\n",
       "      <td>0.2155</td>\n",
       "      <td>0.1140</td>\n",
       "      <td>0.155</td>\n",
       "      <td>10</td>\n",
       "    </tr>\n",
       "    <tr>\n",
       "      <th>4</th>\n",
       "      <td>I</td>\n",
       "      <td>0.330</td>\n",
       "      <td>0.255</td>\n",
       "      <td>0.080</td>\n",
       "      <td>0.2050</td>\n",
       "      <td>0.0895</td>\n",
       "      <td>0.0395</td>\n",
       "      <td>0.055</td>\n",
       "      <td>7</td>\n",
       "    </tr>\n",
       "  </tbody>\n",
       "</table>\n",
       "</div>"
      ],
      "text/plain": [
       "  Sex  Length  Diameter  Height  Whole weight  Shucked weight  Viscera weight  \\\n",
       "0   M   0.455     0.365   0.095        0.5140          0.2245          0.1010   \n",
       "1   M   0.350     0.265   0.090        0.2255          0.0995          0.0485   \n",
       "2   F   0.530     0.420   0.135        0.6770          0.2565          0.1415   \n",
       "3   M   0.440     0.365   0.125        0.5160          0.2155          0.1140   \n",
       "4   I   0.330     0.255   0.080        0.2050          0.0895          0.0395   \n",
       "\n",
       "   Shell weight  Rings  \n",
       "0         0.150     15  \n",
       "1         0.070      7  \n",
       "2         0.210      9  \n",
       "3         0.155     10  \n",
       "4         0.055      7  "
      ]
     },
     "execution_count": 133,
     "metadata": {},
     "output_type": "execute_result"
    }
   ],
   "source": [
    "#downloading the dataset :\n",
    "abalone=pd.read_csv(\"AbaloneDataSet.csv\")\n",
    "abalone.head()"
   ]
  },
  {
   "cell_type": "code",
   "execution_count": 134,
   "metadata": {},
   "outputs": [
    {
     "data": {
      "text/html": [
       "<div>\n",
       "<style scoped>\n",
       "    .dataframe tbody tr th:only-of-type {\n",
       "        vertical-align: middle;\n",
       "    }\n",
       "\n",
       "    .dataframe tbody tr th {\n",
       "        vertical-align: top;\n",
       "    }\n",
       "\n",
       "    .dataframe thead th {\n",
       "        text-align: right;\n",
       "    }\n",
       "</style>\n",
       "<table border=\"1\" class=\"dataframe\">\n",
       "  <thead>\n",
       "    <tr style=\"text-align: right;\">\n",
       "      <th></th>\n",
       "      <th>Length</th>\n",
       "      <th>Diameter</th>\n",
       "      <th>Height</th>\n",
       "      <th>Whole weight</th>\n",
       "      <th>Shucked weight</th>\n",
       "      <th>Viscera weight</th>\n",
       "      <th>Shell weight</th>\n",
       "      <th>Rings</th>\n",
       "    </tr>\n",
       "  </thead>\n",
       "  <tbody>\n",
       "    <tr>\n",
       "      <th>count</th>\n",
       "      <td>4177.000000</td>\n",
       "      <td>4177.000000</td>\n",
       "      <td>4177.000000</td>\n",
       "      <td>4177.000000</td>\n",
       "      <td>4177.000000</td>\n",
       "      <td>4177.000000</td>\n",
       "      <td>4177.000000</td>\n",
       "      <td>4177.000000</td>\n",
       "    </tr>\n",
       "    <tr>\n",
       "      <th>mean</th>\n",
       "      <td>0.523992</td>\n",
       "      <td>0.407881</td>\n",
       "      <td>0.139516</td>\n",
       "      <td>0.828742</td>\n",
       "      <td>0.359367</td>\n",
       "      <td>0.180594</td>\n",
       "      <td>0.238831</td>\n",
       "      <td>9.933684</td>\n",
       "    </tr>\n",
       "    <tr>\n",
       "      <th>std</th>\n",
       "      <td>0.120093</td>\n",
       "      <td>0.099240</td>\n",
       "      <td>0.041827</td>\n",
       "      <td>0.490389</td>\n",
       "      <td>0.221963</td>\n",
       "      <td>0.109614</td>\n",
       "      <td>0.139203</td>\n",
       "      <td>3.224169</td>\n",
       "    </tr>\n",
       "    <tr>\n",
       "      <th>min</th>\n",
       "      <td>0.075000</td>\n",
       "      <td>0.055000</td>\n",
       "      <td>0.000000</td>\n",
       "      <td>0.002000</td>\n",
       "      <td>0.001000</td>\n",
       "      <td>0.000500</td>\n",
       "      <td>0.001500</td>\n",
       "      <td>1.000000</td>\n",
       "    </tr>\n",
       "    <tr>\n",
       "      <th>25%</th>\n",
       "      <td>0.450000</td>\n",
       "      <td>0.350000</td>\n",
       "      <td>0.115000</td>\n",
       "      <td>0.441500</td>\n",
       "      <td>0.186000</td>\n",
       "      <td>0.093500</td>\n",
       "      <td>0.130000</td>\n",
       "      <td>8.000000</td>\n",
       "    </tr>\n",
       "    <tr>\n",
       "      <th>50%</th>\n",
       "      <td>0.545000</td>\n",
       "      <td>0.425000</td>\n",
       "      <td>0.140000</td>\n",
       "      <td>0.799500</td>\n",
       "      <td>0.336000</td>\n",
       "      <td>0.171000</td>\n",
       "      <td>0.234000</td>\n",
       "      <td>9.000000</td>\n",
       "    </tr>\n",
       "    <tr>\n",
       "      <th>75%</th>\n",
       "      <td>0.615000</td>\n",
       "      <td>0.480000</td>\n",
       "      <td>0.165000</td>\n",
       "      <td>1.153000</td>\n",
       "      <td>0.502000</td>\n",
       "      <td>0.253000</td>\n",
       "      <td>0.329000</td>\n",
       "      <td>11.000000</td>\n",
       "    </tr>\n",
       "    <tr>\n",
       "      <th>max</th>\n",
       "      <td>0.815000</td>\n",
       "      <td>0.650000</td>\n",
       "      <td>1.130000</td>\n",
       "      <td>2.825500</td>\n",
       "      <td>1.488000</td>\n",
       "      <td>0.760000</td>\n",
       "      <td>1.005000</td>\n",
       "      <td>29.000000</td>\n",
       "    </tr>\n",
       "  </tbody>\n",
       "</table>\n",
       "</div>"
      ],
      "text/plain": [
       "            Length     Diameter       Height  Whole weight  Shucked weight  \\\n",
       "count  4177.000000  4177.000000  4177.000000   4177.000000     4177.000000   \n",
       "mean      0.523992     0.407881     0.139516      0.828742        0.359367   \n",
       "std       0.120093     0.099240     0.041827      0.490389        0.221963   \n",
       "min       0.075000     0.055000     0.000000      0.002000        0.001000   \n",
       "25%       0.450000     0.350000     0.115000      0.441500        0.186000   \n",
       "50%       0.545000     0.425000     0.140000      0.799500        0.336000   \n",
       "75%       0.615000     0.480000     0.165000      1.153000        0.502000   \n",
       "max       0.815000     0.650000     1.130000      2.825500        1.488000   \n",
       "\n",
       "       Viscera weight  Shell weight        Rings  \n",
       "count     4177.000000   4177.000000  4177.000000  \n",
       "mean         0.180594      0.238831     9.933684  \n",
       "std          0.109614      0.139203     3.224169  \n",
       "min          0.000500      0.001500     1.000000  \n",
       "25%          0.093500      0.130000     8.000000  \n",
       "50%          0.171000      0.234000     9.000000  \n",
       "75%          0.253000      0.329000    11.000000  \n",
       "max          0.760000      1.005000    29.000000  "
      ]
     },
     "execution_count": 134,
     "metadata": {},
     "output_type": "execute_result"
    }
   ],
   "source": [
    "abalone.describe()"
   ]
  },
  {
   "cell_type": "code",
   "execution_count": 135,
   "metadata": {},
   "outputs": [
    {
     "name": "stdout",
     "output_type": "stream",
     "text": [
      "<class 'pandas.core.frame.DataFrame'>\n",
      "RangeIndex: 4177 entries, 0 to 4176\n",
      "Data columns (total 9 columns):\n",
      " #   Column          Non-Null Count  Dtype  \n",
      "---  ------          --------------  -----  \n",
      " 0   Sex             4177 non-null   object \n",
      " 1   Length          4177 non-null   float64\n",
      " 2   Diameter        4177 non-null   float64\n",
      " 3   Height          4177 non-null   float64\n",
      " 4   Whole weight    4177 non-null   float64\n",
      " 5   Shucked weight  4177 non-null   float64\n",
      " 6   Viscera weight  4177 non-null   float64\n",
      " 7   Shell weight    4177 non-null   float64\n",
      " 8   Rings           4177 non-null   int64  \n",
      "dtypes: float64(7), int64(1), object(1)\n",
      "memory usage: 293.8+ KB\n"
     ]
    }
   ],
   "source": [
    "abalone.info()"
   ]
  },
  {
   "cell_type": "code",
   "execution_count": 136,
   "metadata": {},
   "outputs": [
    {
     "data": {
      "text/plain": [
       "Sex               0\n",
       "Length            0\n",
       "Diameter          0\n",
       "Height            0\n",
       "Whole weight      0\n",
       "Shucked weight    0\n",
       "Viscera weight    0\n",
       "Shell weight      0\n",
       "Rings             0\n",
       "dtype: int64"
      ]
     },
     "execution_count": 136,
     "metadata": {},
     "output_type": "execute_result"
    }
   ],
   "source": [
    "abalone.isnull().sum()"
   ]
  },
  {
   "cell_type": "code",
   "execution_count": 137,
   "metadata": {},
   "outputs": [
    {
     "data": {
      "text/plain": [
       "(4177, 9)"
      ]
     },
     "execution_count": 137,
     "metadata": {},
     "output_type": "execute_result"
    }
   ],
   "source": [
    "abalone.shape"
   ]
  },
  {
   "cell_type": "code",
   "execution_count": 138,
   "metadata": {},
   "outputs": [
    {
     "data": {
      "image/png": "[encoded data removed]",
      "text/plain": [
       "<Figure size 432x288 with 2 Axes>"
      ]
     },
     "metadata": {
      "needs_background": "light"
     },
     "output_type": "display_data"
    }
   ],
   "source": [
    "sns.heatmap(abalone.isnull())\n",
    "plt.title(\"Null Values\")\n",
    "plt.show()"
   ]
  },
  {
   "cell_type": "markdown",
   "metadata": {},
   "source": [
    "There is no null values in the dataset."
   ]
  },
  {
   "cell_type": "code",
   "execution_count": 139,
   "metadata": {},
   "outputs": [
    {
     "data": {
      "text/html": [
       "<div>\n",
       "<style scoped>\n",
       "    .dataframe tbody tr th:only-of-type {\n",
       "        vertical-align: middle;\n",
       "    }\n",
       "\n",
       "    .dataframe tbody tr th {\n",
       "        vertical-align: top;\n",
       "    }\n",
       "\n",
       "    .dataframe thead th {\n",
       "        text-align: right;\n",
       "    }\n",
       "</style>\n",
       "<table border=\"1\" class=\"dataframe\">\n",
       "  <thead>\n",
       "    <tr style=\"text-align: right;\">\n",
       "      <th></th>\n",
       "      <th>Sex</th>\n",
       "      <th>Length</th>\n",
       "      <th>Diameter</th>\n",
       "      <th>Height</th>\n",
       "      <th>Whole weight</th>\n",
       "      <th>Shucked weight</th>\n",
       "      <th>Viscera weight</th>\n",
       "      <th>Shell weight</th>\n",
       "      <th>Rings</th>\n",
       "    </tr>\n",
       "  </thead>\n",
       "  <tbody>\n",
       "    <tr>\n",
       "      <th>0</th>\n",
       "      <td>2</td>\n",
       "      <td>0.455</td>\n",
       "      <td>0.365</td>\n",
       "      <td>0.095</td>\n",
       "      <td>0.5140</td>\n",
       "      <td>0.2245</td>\n",
       "      <td>0.1010</td>\n",
       "      <td>0.150</td>\n",
       "      <td>15</td>\n",
       "    </tr>\n",
       "    <tr>\n",
       "      <th>1</th>\n",
       "      <td>2</td>\n",
       "      <td>0.350</td>\n",
       "      <td>0.265</td>\n",
       "      <td>0.090</td>\n",
       "      <td>0.2255</td>\n",
       "      <td>0.0995</td>\n",
       "      <td>0.0485</td>\n",
       "      <td>0.070</td>\n",
       "      <td>7</td>\n",
       "    </tr>\n",
       "    <tr>\n",
       "      <th>2</th>\n",
       "      <td>0</td>\n",
       "      <td>0.530</td>\n",
       "      <td>0.420</td>\n",
       "      <td>0.135</td>\n",
       "      <td>0.6770</td>\n",
       "      <td>0.2565</td>\n",
       "      <td>0.1415</td>\n",
       "      <td>0.210</td>\n",
       "      <td>9</td>\n",
       "    </tr>\n",
       "    <tr>\n",
       "      <th>3</th>\n",
       "      <td>2</td>\n",
       "      <td>0.440</td>\n",
       "      <td>0.365</td>\n",
       "      <td>0.125</td>\n",
       "      <td>0.5160</td>\n",
       "      <td>0.2155</td>\n",
       "      <td>0.1140</td>\n",
       "      <td>0.155</td>\n",
       "      <td>10</td>\n",
       "    </tr>\n",
       "    <tr>\n",
       "      <th>4</th>\n",
       "      <td>1</td>\n",
       "      <td>0.330</td>\n",
       "      <td>0.255</td>\n",
       "      <td>0.080</td>\n",
       "      <td>0.2050</td>\n",
       "      <td>0.0895</td>\n",
       "      <td>0.0395</td>\n",
       "      <td>0.055</td>\n",
       "      <td>7</td>\n",
       "    </tr>\n",
       "  </tbody>\n",
       "</table>\n",
       "</div>"
      ],
      "text/plain": [
       "   Sex  Length  Diameter  Height  Whole weight  Shucked weight  \\\n",
       "0    2   0.455     0.365   0.095        0.5140          0.2245   \n",
       "1    2   0.350     0.265   0.090        0.2255          0.0995   \n",
       "2    0   0.530     0.420   0.135        0.6770          0.2565   \n",
       "3    2   0.440     0.365   0.125        0.5160          0.2155   \n",
       "4    1   0.330     0.255   0.080        0.2050          0.0895   \n",
       "\n",
       "   Viscera weight  Shell weight  Rings  \n",
       "0          0.1010         0.150     15  \n",
       "1          0.0485         0.070      7  \n",
       "2          0.1415         0.210      9  \n",
       "3          0.1140         0.155     10  \n",
       "4          0.0395         0.055      7  "
      ]
     },
     "execution_count": 139,
     "metadata": {},
     "output_type": "execute_result"
    }
   ],
   "source": [
    "#LabelEncoding for Column Sex\n",
    "\n",
    "LE=LabelEncoder()\n",
    "abalone[\"Sex\"]=LE.fit_transform(abalone[\"Sex\"])\n",
    "abalone.head()"
   ]
  },
  {
   "cell_type": "markdown",
   "metadata": {},
   "source": [
    "Now lets check the correlation matrix"
   ]
  },
  {
   "cell_type": "code",
   "execution_count": 140,
   "metadata": {},
   "outputs": [
    {
     "data": {
      "image/png": "[encoded data removed]",
      "text/plain": [
       "<Figure size 720x576 with 2 Axes>"
      ]
     },
     "metadata": {
      "needs_background": "light"
     },
     "output_type": "display_data"
    }
   ],
   "source": [
    "ab_cor=abalone.corr(method='pearson')\n",
    "plt.figure(figsize=[10,8])\n",
    "sns.heatmap(ab_cor, annot=True)\n",
    "plt.title(\"Correlation Matrix\")\n",
    "plt.show()"
   ]
  },
  {
   "cell_type": "code",
   "execution_count": 141,
   "metadata": {},
   "outputs": [
    {
     "data": {
      "text/plain": [
       "Rings             1.000000\n",
       "Shell weight      0.627574\n",
       "Diameter          0.574660\n",
       "Height            0.557467\n",
       "Length            0.556720\n",
       "Whole weight      0.540390\n",
       "Viscera weight    0.503819\n",
       "Shucked weight    0.420884\n",
       "Sex              -0.034627\n",
       "Name: Rings, dtype: float64"
      ]
     },
     "execution_count": 141,
     "metadata": {},
     "output_type": "execute_result"
    }
   ],
   "source": [
    "ab_cor['Rings'].sort_values(ascending=False)"
   ]
  },
  {
   "cell_type": "markdown",
   "metadata": {},
   "source": [
    "We can see the correlation between the independant variable and dependant variable Rings.\n",
    "Only Sex has very low correlation with Rings which is -0.034"
   ]
  },
  {
   "cell_type": "markdown",
   "metadata": {},
   "source": [
    "###### Checking Outliers :\n",
    "Lets check for the Outliers in our dataset."
   ]
  },
  {
   "cell_type": "code",
   "execution_count": 167,
   "metadata": {},
   "outputs": [
    {
     "data": {
      "text/plain": [
       "<AxesSubplot:>"
      ]
     },
     "execution_count": 167,
     "metadata": {},
     "output_type": "execute_result"
    },
    {
     "data": {
      "image/png": "[encoded data removed]",
      "text/plain": [
       "<Figure size 432x288 with 1 Axes>"
      ]
     },
     "metadata": {
      "needs_background": "light"
     },
     "output_type": "display_data"
    }
   ],
   "source": [
    "abalone[\"Sex\"].plot.box()"
   ]
  },
  {
   "cell_type": "code",
   "execution_count": 168,
   "metadata": {},
   "outputs": [
    {
     "data": {
      "text/plain": [
       "<AxesSubplot:>"
      ]
     },
     "execution_count": 168,
     "metadata": {},
     "output_type": "execute_result"
    },
    {
     "data": {
      "image/png": "[encoded data removed]",
      "text/plain": [
       "<Figure size 432x288 with 1 Axes>"
      ]
     },
     "metadata": {
      "needs_background": "light"
     },
     "output_type": "display_data"
    }
   ],
   "source": [
    "abalone[\"Length\"].plot.box()"
   ]
  },
  {
   "cell_type": "markdown",
   "metadata": {},
   "source": [
    "From the above observation, we see there are outliers in Length Column"
   ]
  },
  {
   "cell_type": "code",
   "execution_count": 169,
   "metadata": {},
   "outputs": [
    {
     "data": {
      "text/plain": [
       "<AxesSubplot:>"
      ]
     },
     "execution_count": 169,
     "metadata": {},
     "output_type": "execute_result"
    },
    {
     "data": {
      "image/png": "[encoded data removed]",
      "text/plain": [
       "<Figure size 432x288 with 1 Axes>"
      ]
     },
     "metadata": {
      "needs_background": "light"
     },
     "output_type": "display_data"
    }
   ],
   "source": [
    "abalone[\"Diameter\"].plot.box()"
   ]
  },
  {
   "cell_type": "markdown",
   "metadata": {},
   "source": [
    "There are utliers in Diameter Column"
   ]
  },
  {
   "cell_type": "code",
   "execution_count": 170,
   "metadata": {},
   "outputs": [
    {
     "data": {
      "text/plain": [
       "<AxesSubplot:>"
      ]
     },
     "execution_count": 170,
     "metadata": {},
     "output_type": "execute_result"
    },
    {
     "data": {
      "image/png": "[encoded data removed]",
      "text/plain": [
       "<Figure size 432x288 with 1 Axes>"
      ]
     },
     "metadata": {
      "needs_background": "light"
     },
     "output_type": "display_data"
    }
   ],
   "source": [
    "abalone[\"Height\"].plot.box()"
   ]
  },
  {
   "cell_type": "code",
   "execution_count": 171,
   "metadata": {},
   "outputs": [
    {
     "data": {
      "text/plain": [
       "<AxesSubplot:>"
      ]
     },
     "execution_count": 171,
     "metadata": {},
     "output_type": "execute_result"
    },
    {
     "data": {
      "image/png": "[encoded data removed]",
      "text/plain": [
       "<Figure size 432x288 with 1 Axes>"
      ]
     },
     "metadata": {
      "needs_background": "light"
     },
     "output_type": "display_data"
    }
   ],
   "source": [
    "abalone[\"Whole weight\"].plot.box()"
   ]
  },
  {
   "cell_type": "code",
   "execution_count": 172,
   "metadata": {},
   "outputs": [
    {
     "data": {
      "text/plain": [
       "<AxesSubplot:>"
      ]
     },
     "execution_count": 172,
     "metadata": {},
     "output_type": "execute_result"
    },
    {
     "data": {
      "image/png": "[encoded data removed]",
      "text/plain": [
       "<Figure size 432x288 with 1 Axes>"
      ]
     },
     "metadata": {
      "needs_background": "light"
     },
     "output_type": "display_data"
    }
   ],
   "source": [
    "abalone[\"Shucked weight\"].plot.box()"
   ]
  },
  {
   "cell_type": "code",
   "execution_count": 173,
   "metadata": {},
   "outputs": [
    {
     "data": {
      "text/plain": [
       "<AxesSubplot:>"
      ]
     },
     "execution_count": 173,
     "metadata": {},
     "output_type": "execute_result"
    },
    {
     "data": {
      "image/png": "[encoded data removed]",
      "text/plain": [
       "<Figure size 432x288 with 1 Axes>"
      ]
     },
     "metadata": {
      "needs_background": "light"
     },
     "output_type": "display_data"
    }
   ],
   "source": [
    "abalone[\"Viscera weight\"].plot.box()"
   ]
  },
  {
   "cell_type": "code",
   "execution_count": 175,
   "metadata": {},
   "outputs": [
    {
     "data": {
      "text/plain": [
       "<AxesSubplot:>"
      ]
     },
     "execution_count": 175,
     "metadata": {},
     "output_type": "execute_result"
    },
    {
     "data": {
      "image/png": "[encoded data removed]",
      "text/plain": [
       "<Figure size 432x288 with 1 Axes>"
      ]
     },
     "metadata": {
      "needs_background": "light"
     },
     "output_type": "display_data"
    }
   ],
   "source": [
    "abalone[\"Shell weight\"].plot.box()"
   ]
  },
  {
   "cell_type": "markdown",
   "metadata": {},
   "source": [
    "From the above observations we can see that there are outliers in Columns > Length \tDiameter \tHeight \tWhole weight \tShucked weight \tViscera weight \tShell weight"
   ]
  },
  {
   "cell_type": "code",
   "execution_count": 176,
   "metadata": {},
   "outputs": [
    {
     "data": {
      "text/plain": [
       "(4177, 9)"
      ]
     },
     "execution_count": 176,
     "metadata": {},
     "output_type": "execute_result"
    }
   ],
   "source": [
    "#Lets try to remove Outliers\n",
    "\n",
    "abalone.shape"
   ]
  },
  {
   "cell_type": "code",
   "execution_count": 154,
   "metadata": {},
   "outputs": [],
   "source": [
    "from scipy.stats import zscore"
   ]
  },
  {
   "cell_type": "code",
   "execution_count": 177,
   "metadata": {},
   "outputs": [
    {
     "data": {
      "text/plain": [
       "(array([   6,   72,   81,   83,  129,  163,  164,  165,  165,  165,  166,\n",
       "         166,  167,  168,  170,  181,  232,  236,  236,  236,  237,  237,\n",
       "         238,  238,  239,  270,  275,  277,  278,  294,  310,  313,  314,\n",
       "         334,  351,  355,  358,  358,  362,  375,  416,  417,  428,  431,\n",
       "         433,  469,  478,  480,  501,  526,  526,  530,  572,  628,  673,\n",
       "         674,  675,  678,  694,  696,  696,  719,  719,  720,  720,  744,\n",
       "         754,  756,  811,  891,  891,  891, 1048, 1051, 1051, 1052, 1193,\n",
       "        1197, 1199, 1202, 1204, 1206, 1206, 1207, 1207, 1207, 1207, 1209,\n",
       "        1209, 1257, 1417, 1417, 1418, 1422, 1426, 1427, 1427, 1427, 1428,\n",
       "        1429, 1429, 1528, 1754, 1756, 1757, 1759, 1761, 1762, 1762, 1762,\n",
       "        1763, 1763, 1763, 1821, 1982, 1986, 1987, 1987, 2051, 2090, 2108,\n",
       "        2108, 2114, 2114, 2157, 2161, 2176, 2180, 2199, 2201, 2208, 2209,\n",
       "        2274, 2275, 2305, 2334, 2334, 2334, 2335, 2344, 2358, 2368, 2381,\n",
       "        2436, 2459, 2471, 2544, 2623, 2624, 2624, 2624, 2625, 2709, 2710,\n",
       "        2710, 2810, 2810, 2811, 2811, 2811, 2862, 2863, 2863, 2863, 3007,\n",
       "        3008, 3140, 3148, 3149, 3149, 3151, 3151, 3188, 3193, 3280, 3359,\n",
       "        3427, 3427, 3427, 3599, 3599, 3628, 3713, 3715, 3715, 3715, 3715,\n",
       "        3800, 3837, 3899, 3899, 3902, 3924, 3930, 3944, 3961, 3962, 3996,\n",
       "        4145, 4148], dtype=int64),\n",
       " array([8, 8, 7, 8, 7, 7, 7, 4, 5, 7, 7, 8, 8, 7, 6, 8, 8, 1, 2, 3, 1, 2,\n",
       "        1, 2, 1, 8, 8, 7, 8, 8, 8, 8, 8, 7, 8, 8, 4, 7, 8, 8, 8, 8, 8, 8,\n",
       "        8, 8, 8, 8, 8, 1, 2, 8, 8, 8, 8, 8, 8, 8, 2, 1, 2, 1, 2, 1, 2, 8,\n",
       "        8, 8, 8, 4, 5, 7, 6, 4, 5, 4, 5, 5, 5, 5, 6, 5, 6, 4, 5, 6, 7, 4,\n",
       "        5, 3, 3, 5, 5, 6, 5, 4, 5, 6, 7, 1, 2, 5, 5, 5, 6, 6, 5, 4, 5, 6,\n",
       "        4, 5, 6, 5, 5, 1, 1, 2, 3, 7, 7, 8, 1, 2, 7, 7, 8, 8, 8, 8, 7, 8,\n",
       "        7, 8, 8, 4, 6, 8, 8, 8, 8, 7, 1, 8, 8, 8, 5, 4, 4, 5, 6, 5, 6, 5,\n",
       "        6, 5, 6, 4, 5, 6, 5, 4, 5, 6, 5, 7, 8, 7, 7, 8, 7, 8, 7, 8, 8, 8,\n",
       "        4, 5, 6, 4, 5, 6, 5, 4, 5, 6, 7, 4, 2, 1, 2, 1, 8, 8, 8, 5, 5, 3,\n",
       "        7, 6], dtype=int64))"
      ]
     },
     "execution_count": 177,
     "metadata": {},
     "output_type": "execute_result"
    }
   ],
   "source": [
    "z=np.abs(zscore(abalone))\n",
    "threshold=3\n",
    "np.where(z>3)"
   ]
  },
  {
   "cell_type": "code",
   "execution_count": 156,
   "metadata": {},
   "outputs": [
    {
     "name": "stdout",
     "output_type": "stream",
     "text": [
      "[[1.15198011 0.57455813 0.43214879 ... 0.60768536 0.72621157 0.63821689]\n",
      " [1.15198011 1.44898585 1.439929   ... 1.17090984 1.20522124 1.21298732]\n",
      " [1.28068972 0.05003309 0.12213032 ... 0.4634999  0.35668983 0.20713907]\n",
      " ...\n",
      " [1.15198011 0.6329849  0.67640943 ... 0.74855917 0.97541324 0.49695471]\n",
      " [1.28068972 0.84118198 0.77718745 ... 0.77334105 0.73362741 0.41073914]\n",
      " [1.15198011 1.54905203 1.48263359 ... 2.64099341 1.78744868 1.84048058]]\n"
     ]
    }
   ],
   "source": [
    "print(z)"
   ]
  },
  {
   "cell_type": "code",
   "execution_count": 178,
   "metadata": {},
   "outputs": [
    {
     "data": {
      "text/html": [
       "<div>\n",
       "<style scoped>\n",
       "    .dataframe tbody tr th:only-of-type {\n",
       "        vertical-align: middle;\n",
       "    }\n",
       "\n",
       "    .dataframe tbody tr th {\n",
       "        vertical-align: top;\n",
       "    }\n",
       "\n",
       "    .dataframe thead th {\n",
       "        text-align: right;\n",
       "    }\n",
       "</style>\n",
       "<table border=\"1\" class=\"dataframe\">\n",
       "  <thead>\n",
       "    <tr style=\"text-align: right;\">\n",
       "      <th></th>\n",
       "      <th>Sex</th>\n",
       "      <th>Length</th>\n",
       "      <th>Diameter</th>\n",
       "      <th>Height</th>\n",
       "      <th>Whole weight</th>\n",
       "      <th>Shucked weight</th>\n",
       "      <th>Viscera weight</th>\n",
       "      <th>Shell weight</th>\n",
       "      <th>Rings</th>\n",
       "    </tr>\n",
       "  </thead>\n",
       "  <tbody>\n",
       "    <tr>\n",
       "      <th>0</th>\n",
       "      <td>2</td>\n",
       "      <td>0.455</td>\n",
       "      <td>0.365</td>\n",
       "      <td>0.095</td>\n",
       "      <td>0.5140</td>\n",
       "      <td>0.2245</td>\n",
       "      <td>0.1010</td>\n",
       "      <td>0.1500</td>\n",
       "      <td>15</td>\n",
       "    </tr>\n",
       "    <tr>\n",
       "      <th>1</th>\n",
       "      <td>2</td>\n",
       "      <td>0.350</td>\n",
       "      <td>0.265</td>\n",
       "      <td>0.090</td>\n",
       "      <td>0.2255</td>\n",
       "      <td>0.0995</td>\n",
       "      <td>0.0485</td>\n",
       "      <td>0.0700</td>\n",
       "      <td>7</td>\n",
       "    </tr>\n",
       "    <tr>\n",
       "      <th>2</th>\n",
       "      <td>0</td>\n",
       "      <td>0.530</td>\n",
       "      <td>0.420</td>\n",
       "      <td>0.135</td>\n",
       "      <td>0.6770</td>\n",
       "      <td>0.2565</td>\n",
       "      <td>0.1415</td>\n",
       "      <td>0.2100</td>\n",
       "      <td>9</td>\n",
       "    </tr>\n",
       "    <tr>\n",
       "      <th>3</th>\n",
       "      <td>2</td>\n",
       "      <td>0.440</td>\n",
       "      <td>0.365</td>\n",
       "      <td>0.125</td>\n",
       "      <td>0.5160</td>\n",
       "      <td>0.2155</td>\n",
       "      <td>0.1140</td>\n",
       "      <td>0.1550</td>\n",
       "      <td>10</td>\n",
       "    </tr>\n",
       "    <tr>\n",
       "      <th>4</th>\n",
       "      <td>1</td>\n",
       "      <td>0.330</td>\n",
       "      <td>0.255</td>\n",
       "      <td>0.080</td>\n",
       "      <td>0.2050</td>\n",
       "      <td>0.0895</td>\n",
       "      <td>0.0395</td>\n",
       "      <td>0.0550</td>\n",
       "      <td>7</td>\n",
       "    </tr>\n",
       "    <tr>\n",
       "      <th>...</th>\n",
       "      <td>...</td>\n",
       "      <td>...</td>\n",
       "      <td>...</td>\n",
       "      <td>...</td>\n",
       "      <td>...</td>\n",
       "      <td>...</td>\n",
       "      <td>...</td>\n",
       "      <td>...</td>\n",
       "      <td>...</td>\n",
       "    </tr>\n",
       "    <tr>\n",
       "      <th>4172</th>\n",
       "      <td>0</td>\n",
       "      <td>0.565</td>\n",
       "      <td>0.450</td>\n",
       "      <td>0.165</td>\n",
       "      <td>0.8870</td>\n",
       "      <td>0.3700</td>\n",
       "      <td>0.2390</td>\n",
       "      <td>0.2490</td>\n",
       "      <td>11</td>\n",
       "    </tr>\n",
       "    <tr>\n",
       "      <th>4173</th>\n",
       "      <td>2</td>\n",
       "      <td>0.590</td>\n",
       "      <td>0.440</td>\n",
       "      <td>0.135</td>\n",
       "      <td>0.9660</td>\n",
       "      <td>0.4390</td>\n",
       "      <td>0.2145</td>\n",
       "      <td>0.2605</td>\n",
       "      <td>10</td>\n",
       "    </tr>\n",
       "    <tr>\n",
       "      <th>4174</th>\n",
       "      <td>2</td>\n",
       "      <td>0.600</td>\n",
       "      <td>0.475</td>\n",
       "      <td>0.205</td>\n",
       "      <td>1.1760</td>\n",
       "      <td>0.5255</td>\n",
       "      <td>0.2875</td>\n",
       "      <td>0.3080</td>\n",
       "      <td>9</td>\n",
       "    </tr>\n",
       "    <tr>\n",
       "      <th>4175</th>\n",
       "      <td>0</td>\n",
       "      <td>0.625</td>\n",
       "      <td>0.485</td>\n",
       "      <td>0.150</td>\n",
       "      <td>1.0945</td>\n",
       "      <td>0.5310</td>\n",
       "      <td>0.2610</td>\n",
       "      <td>0.2960</td>\n",
       "      <td>10</td>\n",
       "    </tr>\n",
       "    <tr>\n",
       "      <th>4176</th>\n",
       "      <td>2</td>\n",
       "      <td>0.710</td>\n",
       "      <td>0.555</td>\n",
       "      <td>0.195</td>\n",
       "      <td>1.9485</td>\n",
       "      <td>0.9455</td>\n",
       "      <td>0.3765</td>\n",
       "      <td>0.4950</td>\n",
       "      <td>12</td>\n",
       "    </tr>\n",
       "  </tbody>\n",
       "</table>\n",
       "<p>4027 rows × 9 columns</p>\n",
       "</div>"
      ],
      "text/plain": [
       "      Sex  Length  Diameter  Height  Whole weight  Shucked weight  \\\n",
       "0       2   0.455     0.365   0.095        0.5140          0.2245   \n",
       "1       2   0.350     0.265   0.090        0.2255          0.0995   \n",
       "2       0   0.530     0.420   0.135        0.6770          0.2565   \n",
       "3       2   0.440     0.365   0.125        0.5160          0.2155   \n",
       "4       1   0.330     0.255   0.080        0.2050          0.0895   \n",
       "...   ...     ...       ...     ...           ...             ...   \n",
       "4172    0   0.565     0.450   0.165        0.8870          0.3700   \n",
       "4173    2   0.590     0.440   0.135        0.9660          0.4390   \n",
       "4174    2   0.600     0.475   0.205        1.1760          0.5255   \n",
       "4175    0   0.625     0.485   0.150        1.0945          0.5310   \n",
       "4176    2   0.710     0.555   0.195        1.9485          0.9455   \n",
       "\n",
       "      Viscera weight  Shell weight  Rings  \n",
       "0             0.1010        0.1500     15  \n",
       "1             0.0485        0.0700      7  \n",
       "2             0.1415        0.2100      9  \n",
       "3             0.1140        0.1550     10  \n",
       "4             0.0395        0.0550      7  \n",
       "...              ...           ...    ...  \n",
       "4172          0.2390        0.2490     11  \n",
       "4173          0.2145        0.2605     10  \n",
       "4174          0.2875        0.3080      9  \n",
       "4175          0.2610        0.2960     10  \n",
       "4176          0.3765        0.4950     12  \n",
       "\n",
       "[4027 rows x 9 columns]"
      ]
     },
     "execution_count": 178,
     "metadata": {},
     "output_type": "execute_result"
    }
   ],
   "source": [
    "abalone_zscr=abalone[(z<3).all(axis=1)]\n",
    "abalone_zscr"
   ]
  },
  {
   "cell_type": "code",
   "execution_count": 179,
   "metadata": {},
   "outputs": [
    {
     "data": {
      "text/plain": [
       "(4027, 9)"
      ]
     },
     "execution_count": 179,
     "metadata": {},
     "output_type": "execute_result"
    }
   ],
   "source": [
    "abalone_zscr.shape"
   ]
  },
  {
   "cell_type": "code",
   "execution_count": 180,
   "metadata": {},
   "outputs": [
    {
     "data": {
      "text/plain": [
       "3.5910940866650707"
      ]
     },
     "execution_count": 180,
     "metadata": {},
     "output_type": "execute_result"
    }
   ],
   "source": [
    "#% of Data Loss :\n",
    "\n",
    "DataLoss=((4177-4027)/4177)*100\n",
    "DataLoss    "
   ]
  },
  {
   "cell_type": "markdown",
   "metadata": {},
   "source": [
    "3.6% data loss after removing the outliers"
   ]
  },
  {
   "cell_type": "markdown",
   "metadata": {},
   "source": [
    "###### Skewness\n",
    "\n",
    "Checking Skewness of the data"
   ]
  },
  {
   "cell_type": "code",
   "execution_count": 181,
   "metadata": {},
   "outputs": [
    {
     "data": {
      "text/plain": [
       "Sex              -0.094886\n",
       "Length           -0.623076\n",
       "Diameter         -0.598650\n",
       "Height           -0.244251\n",
       "Whole weight      0.334204\n",
       "Shucked weight    0.458295\n",
       "Viscera weight    0.437116\n",
       "Shell weight      0.349471\n",
       "Rings             0.725464\n",
       "dtype: float64"
      ]
     },
     "execution_count": 181,
     "metadata": {},
     "output_type": "execute_result"
    }
   ],
   "source": [
    "abalone_zscr.skew()"
   ]
  },
  {
   "cell_type": "code",
   "execution_count": 182,
   "metadata": {},
   "outputs": [
    {
     "data": {
      "image/png": "[encoded data removed]",
      "text/plain": [
       "<Figure size 1296x864 with 32 Axes>"
      ]
     },
     "metadata": {
      "needs_background": "light"
     },
     "output_type": "display_data"
    }
   ],
   "source": [
    "abalone_zscr.plot(kind='density', subplots=True,sharex=False,legend=False, fontsize=1,figsize=(18,12),layout=(4,8))\n",
    "plt.show()"
   ]
  },
  {
   "cell_type": "markdown",
   "metadata": {},
   "source": [
    "We donot see any major skewness in the data."
   ]
  },
  {
   "cell_type": "markdown",
   "metadata": {},
   "source": [
    "###### Separation of Feature set x and target set y"
   ]
  },
  {
   "cell_type": "code",
   "execution_count": 183,
   "metadata": {},
   "outputs": [
    {
     "data": {
      "text/html": [
       "<div>\n",
       "<style scoped>\n",
       "    .dataframe tbody tr th:only-of-type {\n",
       "        vertical-align: middle;\n",
       "    }\n",
       "\n",
       "    .dataframe tbody tr th {\n",
       "        vertical-align: top;\n",
       "    }\n",
       "\n",
       "    .dataframe thead th {\n",
       "        text-align: right;\n",
       "    }\n",
       "</style>\n",
       "<table border=\"1\" class=\"dataframe\">\n",
       "  <thead>\n",
       "    <tr style=\"text-align: right;\">\n",
       "      <th></th>\n",
       "      <th>Sex</th>\n",
       "      <th>Length</th>\n",
       "      <th>Diameter</th>\n",
       "      <th>Height</th>\n",
       "      <th>Whole weight</th>\n",
       "      <th>Shucked weight</th>\n",
       "      <th>Viscera weight</th>\n",
       "      <th>Shell weight</th>\n",
       "    </tr>\n",
       "  </thead>\n",
       "  <tbody>\n",
       "    <tr>\n",
       "      <th>0</th>\n",
       "      <td>2</td>\n",
       "      <td>0.455</td>\n",
       "      <td>0.365</td>\n",
       "      <td>0.095</td>\n",
       "      <td>0.5140</td>\n",
       "      <td>0.2245</td>\n",
       "      <td>0.1010</td>\n",
       "      <td>0.150</td>\n",
       "    </tr>\n",
       "    <tr>\n",
       "      <th>1</th>\n",
       "      <td>2</td>\n",
       "      <td>0.350</td>\n",
       "      <td>0.265</td>\n",
       "      <td>0.090</td>\n",
       "      <td>0.2255</td>\n",
       "      <td>0.0995</td>\n",
       "      <td>0.0485</td>\n",
       "      <td>0.070</td>\n",
       "    </tr>\n",
       "    <tr>\n",
       "      <th>2</th>\n",
       "      <td>0</td>\n",
       "      <td>0.530</td>\n",
       "      <td>0.420</td>\n",
       "      <td>0.135</td>\n",
       "      <td>0.6770</td>\n",
       "      <td>0.2565</td>\n",
       "      <td>0.1415</td>\n",
       "      <td>0.210</td>\n",
       "    </tr>\n",
       "    <tr>\n",
       "      <th>3</th>\n",
       "      <td>2</td>\n",
       "      <td>0.440</td>\n",
       "      <td>0.365</td>\n",
       "      <td>0.125</td>\n",
       "      <td>0.5160</td>\n",
       "      <td>0.2155</td>\n",
       "      <td>0.1140</td>\n",
       "      <td>0.155</td>\n",
       "    </tr>\n",
       "    <tr>\n",
       "      <th>4</th>\n",
       "      <td>1</td>\n",
       "      <td>0.330</td>\n",
       "      <td>0.255</td>\n",
       "      <td>0.080</td>\n",
       "      <td>0.2050</td>\n",
       "      <td>0.0895</td>\n",
       "      <td>0.0395</td>\n",
       "      <td>0.055</td>\n",
       "    </tr>\n",
       "  </tbody>\n",
       "</table>\n",
       "</div>"
      ],
      "text/plain": [
       "   Sex  Length  Diameter  Height  Whole weight  Shucked weight  \\\n",
       "0    2   0.455     0.365   0.095        0.5140          0.2245   \n",
       "1    2   0.350     0.265   0.090        0.2255          0.0995   \n",
       "2    0   0.530     0.420   0.135        0.6770          0.2565   \n",
       "3    2   0.440     0.365   0.125        0.5160          0.2155   \n",
       "4    1   0.330     0.255   0.080        0.2050          0.0895   \n",
       "\n",
       "   Viscera weight  Shell weight  \n",
       "0          0.1010         0.150  \n",
       "1          0.0485         0.070  \n",
       "2          0.1415         0.210  \n",
       "3          0.1140         0.155  \n",
       "4          0.0395         0.055  "
      ]
     },
     "execution_count": 183,
     "metadata": {},
     "output_type": "execute_result"
    }
   ],
   "source": [
    "x=abalone_zscr.drop([\"Rings\"],axis=1)\n",
    "y=abalone_zscr[\"Rings\"]\n",
    "x.head()"
   ]
  },
  {
   "cell_type": "code",
   "execution_count": 184,
   "metadata": {},
   "outputs": [
    {
     "data": {
      "text/plain": [
       "0    15\n",
       "1     7\n",
       "2     9\n",
       "3    10\n",
       "4     7\n",
       "Name: Rings, dtype: int64"
      ]
     },
     "execution_count": 184,
     "metadata": {},
     "output_type": "execute_result"
    }
   ],
   "source": [
    "y.head()"
   ]
  },
  {
   "cell_type": "code",
   "execution_count": 186,
   "metadata": {
    "scrolled": true
   },
   "outputs": [
    {
     "name": "stdout",
     "output_type": "stream",
     "text": [
      "Best Acc: 0.5310646852178886 on Rand State  53\n"
     ]
    }
   ],
   "source": [
    "from sklearn.linear_model import LinearRegression\n",
    "from sklearn.model_selection import train_test_split\n",
    "\n",
    "maxAcc=0\n",
    "maxRS=0\n",
    "for i in range(1,200):\n",
    "    x_train,x_test,y_train,y_test=train_test_split(x,y,test_size=0.2,random_state=i) #Train/Test Splitting\n",
    "    LR=LinearRegression()           #LinearRegression\n",
    "    LR.fit(x_train,y_train)         #Fitting the Model\n",
    "    pred=LR.predict(x_test)         #Predition\n",
    "    acc=LR.score(x_train,y_train)   #Accuracy score\n",
    "    if acc>maxAcc:\n",
    "        maxAcc=acc\n",
    "        maxRS=i\n",
    "        \n",
    "print(\"Best Acc:\",maxAcc,\"on Rand State \",maxRS)"
   ]
  },
  {
   "cell_type": "markdown",
   "metadata": {},
   "source": [
    "###### Creating Train Test split :"
   ]
  },
  {
   "cell_type": "code",
   "execution_count": 187,
   "metadata": {},
   "outputs": [],
   "source": [
    "x_train, x_test, y_train, y_test=train_test_split(x,y,test_size=0.20, random_state=165)"
   ]
  },
  {
   "cell_type": "code",
   "execution_count": 188,
   "metadata": {},
   "outputs": [
    {
     "name": "stdout",
     "output_type": "stream",
     "text": [
      "Coefficients : [  0.08546613  -0.16955215  10.70727332  22.74296737   7.45630006\n",
      " -17.99288112  -7.59745592   6.6762736 ]\n",
      "Intercepts : 2.333011276430068\n"
     ]
    }
   ],
   "source": [
    "LR=LinearRegression()\n",
    "LR.fit(x_train,y_train)\n",
    "#The Coefficients : \n",
    "print('Coefficients :',LR.coef_)\n",
    "print('Intercepts :',LR.intercept_)"
   ]
  },
  {
   "cell_type": "code",
   "execution_count": 189,
   "metadata": {},
   "outputs": [
    {
     "data": {
      "text/plain": [
       "array([16.34995862,  8.70148881, 10.3392013 ,  9.4534349 ,  9.73554934,\n",
       "       10.46691211,  8.73200754,  9.63213876, 10.19131515, 10.52000418,\n",
       "        6.25072454, 12.17599469, 12.74802181,  9.41019641,  7.66490371,\n",
       "       10.28809338,  9.80351879,  5.56253654, 10.70465114, 10.71737379,\n",
       "        9.95108244, 12.67468489, 13.2077219 , 12.84168725,  7.50843618,\n",
       "        6.57531796,  6.80436996, 10.19597805, 11.77630916,  7.19080702,\n",
       "       10.31537695,  6.83671199, 10.0765048 ,  9.21699272,  9.36694503,\n",
       "        9.9569715 , 12.34764534, 11.88084006,  9.57739325, 11.0076246 ,\n",
       "       10.04924408,  8.21724468, 10.72694782,  8.22074961,  9.14079484,\n",
       "        9.08526776,  8.31350894,  9.82625221,  8.98924486, 10.8218314 ,\n",
       "       11.10595078,  9.4903245 , 10.73464296, 12.65972392,  5.76415615,\n",
       "       11.29888825, 10.6171558 ,  7.38418489, 10.27371339,  9.86823661,\n",
       "        9.86389102,  9.00215743,  8.60275587,  8.75023314,  9.77820685,\n",
       "        7.49250579, 12.12613269,  9.12410874, 11.27026304,  8.07597618,\n",
       "        7.62560421,  7.72107149,  9.48780233, 12.17729526, 12.87613548,\n",
       "        9.79939564,  6.38152816,  9.30110489, 12.94978763,  8.54121159,\n",
       "        9.9332022 ,  8.48860395,  9.53162352,  9.13552551, 10.91628842,\n",
       "        9.90565915,  6.54279027, 10.92075123,  5.64574009, 12.17717842,\n",
       "        9.48488705, 10.19226239, 11.45469137, 13.52063194, 10.14094772,\n",
       "        9.85970315,  8.25753863,  8.621072  ,  8.07589838, 11.98733196,\n",
       "        5.78418325, 10.86779261, 10.72155911,  7.27340083,  9.80331545,\n",
       "        8.38389058, 10.29529558, 15.37214661,  9.40128521, 10.1915745 ,\n",
       "        9.60153251, 11.90920185,  9.8459429 , 10.49062798,  8.85848635,\n",
       "       10.48391843, 13.54692712,  9.96458112,  7.90516183,  8.20733934,\n",
       "        9.03338232,  9.0218694 , 11.11397396,  8.40743961, 14.06609629,\n",
       "       12.78056438,  8.86599097,  7.98043457, 11.0729525 , 11.71006997,\n",
       "        5.8444395 ,  8.00400438,  9.46932276, 12.11036502, 12.60144975,\n",
       "       12.51633749, 12.60064479,  8.3702918 ,  9.23263956,  7.54977974,\n",
       "        9.08317718,  4.97772924, 10.52543919, 13.44841918,  8.08681009,\n",
       "       11.14637308,  8.25436046, 10.72269378,  9.07815499,  8.75334957,\n",
       "       10.77542039, 10.4841026 , 10.99295142, 11.3252383 ,  6.05978054,\n",
       "       10.83145196, 11.12677947,  8.01903648,  6.60445956, 10.20790107,\n",
       "        8.59154053,  7.47319832,  9.22294579, 12.89946717, 11.019046  ,\n",
       "        9.43557468, 14.32661644, 10.25147927, 10.18727966, 12.58674421,\n",
       "        9.45765069,  9.86175634, 10.12349882,  8.22588171,  8.52100684,\n",
       "        7.99994517, 11.53503298,  7.91322674, 11.20189723, 11.47472618,\n",
       "        6.97289196, 14.1248066 , 11.20715888, 10.40288677, 10.54001247,\n",
       "        9.78163791,  9.34890878, 11.39164511, 10.05930755,  5.28963926,\n",
       "       12.25358593, 11.54274869, 10.0459769 ,  9.10824491,  7.7883343 ,\n",
       "        9.11524263,  6.99566483, 10.4898658 , 10.27792577, 10.37650557,\n",
       "        8.29261895, 14.15880846,  7.23516665, 11.81238284,  8.4803673 ,\n",
       "        7.32111786,  9.00762721, 11.34473852, 11.40742018,  9.74411348,\n",
       "       13.59498065,  7.67330954,  5.22495625,  6.56922545, 10.13429132,\n",
       "       14.05404835,  6.15072064,  7.42089468,  7.51894146,  8.09387501,\n",
       "        8.44418714, 11.02497132, 10.4236684 , 11.78800548,  7.43646796,\n",
       "       10.04797147, 13.45488634,  6.85580597,  8.01253448,  8.33501334,\n",
       "        9.21876191, 10.01920843,  7.8795116 ,  8.7582332 , 10.74938479,\n",
       "        9.95355273,  8.87384085, 12.14292744, 10.18753463, 10.58350007,\n",
       "        7.30362266,  8.12780525,  7.3740297 ,  8.46793451,  8.1657116 ,\n",
       "       10.33746731,  6.92399656,  8.99083981, 10.39527768,  8.53116957,\n",
       "       13.49582329, 13.04084402, 11.48883745,  9.73862686,  9.38617115,\n",
       "        8.9751377 ,  8.38466733, 10.40145001, 11.93175308,  9.19608468,\n",
       "       12.38794719,  7.82919778,  9.75561195,  9.71310071, 11.3621686 ,\n",
       "       11.50814983, 10.37533614,  9.88447702,  7.53966724, 10.00331838,\n",
       "        8.51541364,  7.11094653, 10.23292705,  9.13095038, 13.13679311,\n",
       "        7.30602377,  6.10015234, 10.28481206, 13.42751567,  8.2211553 ,\n",
       "       11.62353874,  7.88034259, 11.64002253,  9.60101986,  7.72080979,\n",
       "        6.78930177, 12.46549446,  8.5605098 , 13.77490526, 11.96577186,\n",
       "        7.5472354 ,  9.16651067, 12.56289781, 13.36890994, 12.66962827,\n",
       "       10.55352892,  7.73247024,  8.25533328,  9.32614178,  9.50744146,\n",
       "       10.71000573,  8.40665736, 11.31549942,  8.04732269, 11.21989245,\n",
       "        7.76321014, 12.8670349 , 12.05025228, 10.35836797, 10.28503075,\n",
       "       10.98056143, 12.23766141,  9.03003195, 12.21905567, 10.53724381,\n",
       "        9.39863018,  9.26058391, 11.24222415,  7.68103424,  6.26254839,\n",
       "        7.88197205, 12.76536228, 11.73898923,  8.83108271, 10.56223187,\n",
       "       14.15314297, 12.18603034, 10.33182204,  9.02614616,  5.4021749 ,\n",
       "        9.99940549, 10.80653493,  9.31795669,  9.28618511, 10.63320783,\n",
       "        9.01378702,  8.14284759, 12.83656495,  6.65616084,  8.84021598,\n",
       "        7.36618747,  9.30837023,  7.97683089,  9.45618543,  8.71608892,\n",
       "        9.50431032,  6.75338101,  8.99873078,  8.33209341,  5.79180051,\n",
       "        8.15609808,  9.18399791,  9.71999504, 11.44175504, 10.25299514,\n",
       "       10.86658593, 10.93379982, 11.10245209,  7.28654507, 11.72991418,\n",
       "        5.49936583,  8.22715442, 11.90986893,  9.89607083, 10.82870534,\n",
       "        7.84298581,  4.57479827,  9.65831616, 12.51196478, 10.84251187,\n",
       "       10.30039124,  8.58615871,  7.26631098,  8.60480772,  5.18514176,\n",
       "        9.63831628, 11.2236076 , 10.89315068, 10.39923842, 11.83132425,\n",
       "        9.94447974, 10.1931482 , 10.3882323 ,  9.13754123, 11.45767683,\n",
       "       10.47438768,  9.97510235, 10.62622841,  8.50600881, 15.13946531,\n",
       "        8.03828994,  7.47121261, 12.78858961,  8.71076713, 16.99495522,\n",
       "       10.63611704,  7.48202859, 14.1133675 , 15.93921009, 13.64129219,\n",
       "       11.38144377,  8.69753389,  9.55020196,  8.21252862,  7.95211115,\n",
       "        8.31007335, 11.92472262,  6.49655598, 10.246659  ,  6.21702795,\n",
       "       12.28523769, 13.14046117, 13.0000378 ,  8.48241946,  7.6518084 ,\n",
       "        9.97398172,  9.63948544, 11.14591506,  8.1135777 , 10.14297524,\n",
       "        8.38579796, 11.42570035,  6.38303664,  7.85840222,  7.95249941,\n",
       "       15.12607565,  5.9323307 , 13.07489352,  4.85572956, 13.99175373,\n",
       "        9.41094428, 10.21163342, 10.91040977, 10.42065098,  9.43670686,\n",
       "        8.57963071,  9.24865886, 10.55170242,  9.45676214, 12.1021153 ,\n",
       "       12.41396619, 11.45684289,  6.5107042 , 11.59945832, 10.16775512,\n",
       "       10.56958784,  8.1487912 , 10.04885507, 11.12679359,  4.85939677,\n",
       "       11.63307402, 10.85003849, 11.70469185, 11.88623687,  7.50829595,\n",
       "        7.84856217, 10.08219543,  9.57154304, 10.90910109, 12.39860308,\n",
       "        7.47470156,  6.15934493,  9.8016185 ,  9.64232235,  8.75720996,\n",
       "       11.95324901,  8.35275731,  8.50901757, 10.32963691,  7.57408308,\n",
       "       11.15519638, 10.60881577,  6.81032603, 10.29900493,  8.16900158,\n",
       "        7.7182839 ,  8.71605306,  5.72954525,  8.78202078, 13.02994371,\n",
       "        6.46172602,  8.53839306,  8.55667006, 10.8351825 ,  9.50263833,\n",
       "        7.79017091,  8.26524744,  8.67627102,  9.26950091,  8.43785828,\n",
       "       11.2663767 ,  7.02733051, 11.78674338,  9.18755524, 10.00379279,\n",
       "        9.46225614, 11.57266929,  7.22876389,  9.99320092,  8.52953634,\n",
       "        9.20122576,  6.99942003,  9.20953301,  9.83796658, 11.80842889,\n",
       "       10.58494535,  8.6389596 , 11.73717405, 10.54218487,  8.85984195,\n",
       "       14.61766386,  7.2035918 , 11.68305262, 11.20157697,  6.84517742,\n",
       "       11.92913105, 10.06857978,  6.80679432,  8.09637117, 10.54561306,\n",
       "        6.54722204, 11.20639773,  5.79841475,  6.0743034 , 17.23255247,\n",
       "        8.91213225,  7.16961046,  7.90623362, 10.15701635, 11.07976744,\n",
       "        7.88658383,  8.70088947, 11.16046928,  8.22561147,  8.84042915,\n",
       "        7.49475974,  8.42298908,  7.92191875,  8.53736314,  9.39096323,\n",
       "       10.56857709,  6.47170641, 11.3458568 , 10.84869793, 10.65367154,\n",
       "        7.96178223, 11.66489541,  8.20312869, 10.50756677,  9.37026497,\n",
       "        9.55104382,  7.63026968,  7.56288668,  7.92535823,  8.02765746,\n",
       "       11.2942894 ,  7.51466751,  8.97966143,  9.56729637, 11.59777093,\n",
       "       11.68054381, 12.78186651,  9.26764875,  5.13044513, 12.39694069,\n",
       "       10.94714227, 10.17013985, 12.29952665,  7.69430903,  8.30829883,\n",
       "        9.25973043, 11.15904191, 11.22037659,  7.50262949,  7.21236491,\n",
       "        8.25637728,  8.87687189, 15.5905811 , 13.03606447,  7.2702092 ,\n",
       "        9.29214756,  9.29435972,  8.97334787,  7.30915056,  9.35794486,\n",
       "       12.24453475,  9.8353748 ,  7.84934509,  8.76315626,  7.87402556,\n",
       "        9.40846987,  7.71835201,  7.81355366,  8.34443253,  7.25628312,\n",
       "        9.38107907,  6.28756466,  8.74020888,  8.82566779, 12.58901347,\n",
       "        9.5111428 , 10.37274402,  4.99853293,  7.74425072,  7.64156304,\n",
       "        7.3522578 , 10.77175964,  5.93161462, 10.5564404 , 11.69294467,\n",
       "       10.85064588,  9.56701284,  8.76704632,  8.94950585,  9.16590708,\n",
       "        9.78307365,  8.66910966,  7.71139848,  6.19221179, 12.58365723,\n",
       "        7.45684384, 10.69976506,  9.97822729,  8.56928938,  8.58512492,\n",
       "        9.02279261,  8.68044328, 11.28093401,  9.76491399,  9.8154209 ,\n",
       "        9.53443392,  9.64069919,  9.10906141, 10.7086452 , 10.15587727,\n",
       "       10.14672525, 10.44560182, 11.10339307, 10.80707078,  8.26450354,\n",
       "       10.92180679,  9.94924863,  9.94445167,  8.80994106,  9.57964337,\n",
       "       11.06529356, 12.59362382, 11.28513769, 12.22396031,  5.23859229,\n",
       "        7.20936765,  6.32486948,  9.30883643, 11.8715529 , 10.06263634,\n",
       "        9.71591302,  9.42451227, 10.56934651,  9.28202774,  6.99859039,\n",
       "        9.73214809,  9.42773674,  9.0068694 ,  8.50857998, 11.52818881,\n",
       "       10.4026006 ,  6.95549017, 12.91984386,  7.41484982, 10.52319276,\n",
       "       10.15756738,  9.28412559, 14.5093753 ,  7.23235792,  8.68937893,\n",
       "       10.57812881,  8.07668918,  9.0326628 ,  8.18947516,  7.04963029,\n",
       "        8.17951693,  9.43899881,  9.28547078, 10.88116423,  8.9635113 ,\n",
       "        8.12131912,  8.73566387, 10.64997893,  9.41924819,  9.41688168,\n",
       "        9.46406122,  6.30394774,  8.2452415 , 11.30675348, 12.14497288,\n",
       "        9.35105019, 11.51612093,  7.82595635,  8.11578771, 12.161391  ,\n",
       "        9.55838237, 10.48666018,  6.86889833, 10.36325246,  9.47543578,\n",
       "        9.07690127, 11.71869295,  7.75192671, 11.92203021,  7.13813744,\n",
       "        8.74429518, 10.94474387, 14.01995683, 10.64735197, 12.25240308,\n",
       "       12.84808688,  8.31826426, 15.35118297, 10.63990372,  9.62555565,\n",
       "        9.1642757 , 10.14426644,  8.61149873, 10.62448888, 11.43200781,\n",
       "        4.77300616,  9.35607226, 12.25840031, 11.03412676, 12.88674898,\n",
       "        8.96754837, 13.12558709,  7.76966792,  9.30966559,  7.6601088 ,\n",
       "        9.97913228, 10.9920759 , 10.17122968,  6.54784857, 10.5298694 ,\n",
       "        9.23741433,  7.56855918, 11.96157627,  9.6918017 ,  9.37522093,\n",
       "       11.52185961,  7.37021866,  8.86478829,  9.12587184,  9.20097231,\n",
       "        5.71601087, 10.06538316, 10.94537695,  7.22264467,  9.32840438,\n",
       "       12.34252711,  8.98602718, 10.1040402 ,  8.86472231,  8.95700642,\n",
       "       12.15312226,  6.17643832,  8.84114708, 10.69336975, 12.41018569,\n",
       "       12.77017798,  9.95283488,  8.92414714, 13.53107512, 10.29795614,\n",
       "       10.52535611,  9.85386754, 14.67850882,  9.56499401,  6.40580442,\n",
       "       10.54022274,  7.98858408, 11.916568  , 11.54903314,  8.79975573,\n",
       "        8.24890947, 11.33584892, 13.25273196,  9.28915259, 11.868606  ,\n",
       "        6.19538095,  9.51779136, 11.57208764,  7.99869366,  8.89241635,\n",
       "        7.71836682, 12.08942287,  9.12278573,  8.11177429, 11.47543311,\n",
       "       10.29505808, 10.1786496 , 10.13611087,  6.04610135, 12.17941249,\n",
       "       10.70257967,  8.41323317, 12.05676695, 10.11216334, 14.50819008,\n",
       "        7.17229507])"
      ]
     },
     "execution_count": 189,
     "metadata": {},
     "output_type": "execute_result"
    }
   ],
   "source": [
    "#Prediction :\n",
    "\n",
    "pred=LR.predict(x_test)\n",
    "pred"
   ]
  },
  {
   "cell_type": "code",
   "execution_count": 192,
   "metadata": {},
   "outputs": [
    {
     "data": {
      "text/plain": [
       "0.5048657894915283"
      ]
     },
     "execution_count": 192,
     "metadata": {},
     "output_type": "execute_result"
    }
   ],
   "source": [
    "#AccuracyScore :\n",
    "\n",
    "r2_score=LR.score(x_train,y_train)\n",
    "r2_score"
   ]
  },
  {
   "cell_type": "markdown",
   "metadata": {},
   "source": [
    "###### Cross-Validation of the model"
   ]
  },
  {
   "cell_type": "code",
   "execution_count": 195,
   "metadata": {},
   "outputs": [
    {
     "name": "stdout",
     "output_type": "stream",
     "text": [
      "[0.53506545 0.33371268 0.29844228 0.06436205 0.28395131 0.47386846\n",
      " 0.39073354 0.40981299 0.46643267 0.47222947]\n",
      "0.37286109048584437 0.12921868629221725\n"
     ]
    }
   ],
   "source": [
    "from sklearn.model_selection import cross_val_score\n",
    "\n",
    "LRscr=cross_val_score(LR,x,y,cv=10)\n",
    "print(LRscr)\n",
    "print(LRscr.mean(),LRscr.std())"
   ]
  },
  {
   "cell_type": "code",
   "execution_count": 201,
   "metadata": {},
   "outputs": [
    {
     "name": "stdout",
     "output_type": "stream",
     "text": [
      "[0.39223862 0.21391524 0.49735705 0.49887296 0.47162632]\n",
      "0.4148020401486134 0.10768181211472061\n"
     ]
    }
   ],
   "source": [
    "LRscr=cross_val_score(LR,x,y,cv=5)\n",
    "print(LRscr)\n",
    "print(LRscr.mean(),LRscr.std())"
   ]
  },
  {
   "cell_type": "code",
   "execution_count": 202,
   "metadata": {},
   "outputs": [
    {
     "name": "stdout",
     "output_type": "stream",
     "text": [
      "[0.51297023 0.49187695 0.48247274]\n",
      "0.4957733082809949 0.01275174186339846\n"
     ]
    }
   ],
   "source": [
    "LRscr=cross_val_score(LR,x,y,cv=3)\n",
    "print(LRscr)\n",
    "print(LRscr.mean(),LRscr.std())"
   ]
  },
  {
   "cell_type": "code",
   "execution_count": 200,
   "metadata": {},
   "outputs": [
    {
     "name": "stdout",
     "output_type": "stream",
     "text": [
      "[0.50178293 0.51652101]\n",
      "0.5091519690309692 0.007369043368200268\n"
     ]
    }
   ],
   "source": [
    "LRscr=cross_val_score(LR,x,y,cv=2)\n",
    "print(LRscr)\n",
    "print(LRscr.mean(),LRscr.std())"
   ]
  },
  {
   "cell_type": "markdown",
   "metadata": {},
   "source": [
    "We see that at cv=2 we get more accuracy compared to other CVs."
   ]
  },
  {
   "cell_type": "markdown",
   "metadata": {},
   "source": [
    "Lets Fit the line"
   ]
  },
  {
   "cell_type": "code",
   "execution_count": 204,
   "metadata": {},
   "outputs": [
    {
     "data": {
      "image/png": "[encoded data removed]",
      "text/plain": [
       "<Figure size 576x432 with 1 Axes>"
      ]
     },
     "metadata": {
      "needs_background": "light"
     },
     "output_type": "display_data"
    }
   ],
   "source": [
    "plt.figure(figsize=(8,6))\n",
    "plt.scatter(x=y_test,y=pred,color='r')\n",
    "plt.plot(pred,pred,color='b')\n",
    "plt.xlabel(\"Actual Y\")\n",
    "plt.ylabel(\"Predicted Y\")\n",
    "plt.title(\"Linear Regression\")\n",
    "plt.show()"
   ]
  },
  {
   "cell_type": "markdown",
   "metadata": {},
   "source": [
    "Best fit line is covering the most of our data points."
   ]
  },
  {
   "cell_type": "markdown",
   "metadata": {},
   "source": [
    "###### Regularization"
   ]
  },
  {
   "cell_type": "code",
   "execution_count": 205,
   "metadata": {},
   "outputs": [
    {
     "name": "stdout",
     "output_type": "stream",
     "text": [
      "0.504222625122051\n"
     ]
    },
    {
     "data": {
      "text/plain": [
       "array([  0.08243525,   1.11164796,   9.54699152,  18.65980909,\n",
       "         6.91456692, -17.40913961,  -6.52304371,   7.66527192])"
      ]
     },
     "execution_count": 205,
     "metadata": {},
     "output_type": "execute_result"
    }
   ],
   "source": [
    "from sklearn.linear_model import ElasticNet\n",
    "enr=ElasticNet(alpha=.0001)\n",
    "enr.fit(x_train,y_train)\n",
    "enrpred=enr.predict(x_test)\n",
    "print(enr.score(x_train,y_train))\n",
    "enr.coef_"
   ]
  },
  {
   "cell_type": "markdown",
   "metadata": {},
   "source": [
    "###### Ensemble Technique:"
   ]
  },
  {
   "cell_type": "code",
   "execution_count": 209,
   "metadata": {},
   "outputs": [
    {
     "name": "stdout",
     "output_type": "stream",
     "text": [
      "Best Acc: 0.5048657894915283 on Rand State  1\n"
     ]
    }
   ],
   "source": [
    "from sklearn.ensemble import RandomForestRegressor\n",
    "\n",
    "maxAcc=0\n",
    "maxRS=0\n",
    "for i in range(1,200):\n",
    "    rf=RandomForestRegressor()           \n",
    "    LR.fit(x_train,y_train)         #Fitting the Model\n",
    "    pred=LR.predict(x_test)         #Predition\n",
    "    acc=LR.score(x_train,y_train)   #Accuracy score\n",
    "    if acc>maxAcc:\n",
    "        maxAcc=acc\n",
    "        maxRS=i\n",
    "        \n",
    "print(\"Best Acc:\",maxAcc,\"on Rand State \",maxRS)\n"
   ]
  },
  {
   "cell_type": "code",
   "execution_count": null,
   "metadata": {},
   "outputs": [],
   "source": [
    "import joblib\n",
    "file_name=\"Abalone.obj\"\n",
    "joblib.dump(LR,open(file_name,'wb'))"
   ]
  },
  {
   "cell_type": "code",
   "execution_count": 194,
   "metadata": {},
   "outputs": [
    {
     "data": {
      "text/html": [
       "<div>\n",
       "<style scoped>\n",
       "    .dataframe tbody tr th:only-of-type {\n",
       "        vertical-align: middle;\n",
       "    }\n",
       "\n",
       "    .dataframe tbody tr th {\n",
       "        vertical-align: top;\n",
       "    }\n",
       "\n",
       "    .dataframe thead th {\n",
       "        text-align: right;\n",
       "    }\n",
       "</style>\n",
       "<table border=\"1\" class=\"dataframe\">\n",
       "  <thead>\n",
       "    <tr style=\"text-align: right;\">\n",
       "      <th></th>\n",
       "      <th>Original</th>\n",
       "      <th>Predicted</th>\n",
       "    </tr>\n",
       "  </thead>\n",
       "  <tbody>\n",
       "    <tr>\n",
       "      <th>0</th>\n",
       "      <td>16</td>\n",
       "      <td>16.349959</td>\n",
       "    </tr>\n",
       "    <tr>\n",
       "      <th>1</th>\n",
       "      <td>12</td>\n",
       "      <td>8.701489</td>\n",
       "    </tr>\n",
       "    <tr>\n",
       "      <th>2</th>\n",
       "      <td>8</td>\n",
       "      <td>10.339201</td>\n",
       "    </tr>\n",
       "    <tr>\n",
       "      <th>3</th>\n",
       "      <td>11</td>\n",
       "      <td>9.453435</td>\n",
       "    </tr>\n",
       "    <tr>\n",
       "      <th>4</th>\n",
       "      <td>8</td>\n",
       "      <td>9.735549</td>\n",
       "    </tr>\n",
       "    <tr>\n",
       "      <th>...</th>\n",
       "      <td>...</td>\n",
       "      <td>...</td>\n",
       "    </tr>\n",
       "    <tr>\n",
       "      <th>801</th>\n",
       "      <td>7</td>\n",
       "      <td>8.413233</td>\n",
       "    </tr>\n",
       "    <tr>\n",
       "      <th>802</th>\n",
       "      <td>9</td>\n",
       "      <td>12.056767</td>\n",
       "    </tr>\n",
       "    <tr>\n",
       "      <th>803</th>\n",
       "      <td>13</td>\n",
       "      <td>10.112163</td>\n",
       "    </tr>\n",
       "    <tr>\n",
       "      <th>804</th>\n",
       "      <td>15</td>\n",
       "      <td>14.508190</td>\n",
       "    </tr>\n",
       "    <tr>\n",
       "      <th>805</th>\n",
       "      <td>8</td>\n",
       "      <td>7.172295</td>\n",
       "    </tr>\n",
       "  </tbody>\n",
       "</table>\n",
       "<p>806 rows × 2 columns</p>\n",
       "</div>"
      ],
      "text/plain": [
       "     Original  Predicted\n",
       "0          16  16.349959\n",
       "1          12   8.701489\n",
       "2           8  10.339201\n",
       "3          11   9.453435\n",
       "4           8   9.735549\n",
       "..        ...        ...\n",
       "801         7   8.413233\n",
       "802         9  12.056767\n",
       "803        13  10.112163\n",
       "804        15  14.508190\n",
       "805         8   7.172295\n",
       "\n",
       "[806 rows x 2 columns]"
      ]
     },
     "execution_count": 194,
     "metadata": {},
     "output_type": "execute_result"
    }
   ],
   "source": [
    "#Conclusion :\n",
    "a=np.array(y_test)\n",
    "b=np.array(pred)\n",
    "cdf=pd.DataFrame({'Original':a,'Predicted':b},index=range(len(a)))\n",
    "cdf"
   ]
  },
  {
   "cell_type": "code",
   "execution_count": null,
   "metadata": {},
   "outputs": [],
   "source": []
  }
 ],
 "metadata": {
  "kernelspec": {
   "display_name": "Python 3",
   "language": "python",
   "name": "python3"
  },
  "language_info": {
   "codemirror_mode": {
    "name": "ipython",
    "version": 3
   },
   "file_extension": ".py",
   "mimetype": "text/x-python",
   "name": "python",
   "nbconvert_exporter": "python",
   "pygments_lexer": "ipython3",
   "version": "3.7.3"
  }
 },
 "nbformat": 4,
 "nbformat_minor": 2
}
